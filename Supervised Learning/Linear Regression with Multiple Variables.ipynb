{
 "cells": [
  {
   "cell_type": "markdown",
   "id": "6d05b535-ef96-49bc-b2df-ba09cadb51a4",
   "metadata": {},
   "source": [
    "Linear Regression with Multiple Variables:\n",
    "- Implement linear regression using a multivariate dataset (like predicting house prices with features like size, number of rooms, etc.).\n",
    "- Apply feature scaling (normalization or standardization) to improve the convergence rate of gradient descent.\n",
    "Experiment with different learning rates and plot how they affect convergence.\n"
   ]
  },
  {
   "cell_type": "code",
   "execution_count": 11,
   "id": "93e6b2d2-605f-4013-bd2a-efa432811bbe",
   "metadata": {},
   "outputs": [],
   "source": [
    "import numpy as np\n",
    "import matplotlib.pyplot as plt\n",
    "\n",
    "# Sample multivariate dataset: [size (1000 sqft), number of rooms]\n",
    "X = np.array([[1, 1], [2, 2], [3, 3], [4, 4], [5, 5]])  # Features: [Size, Rooms]\n",
    "y = np.array([1.5, 3.0, 4.5, 6.0, 7.5])  # Prices (in $100,000)"
   ]
  },
  {
   "cell_type": "code",
   "execution_count": 12,
   "id": "43dcdae1-5e24-4993-9880-4111744b5e5d",
   "metadata": {},
   "outputs": [],
   "source": [
    "# Feature scaling: Standardization\n",
    "def feature_standardize(X):\n",
    "    mean = np.mean(X, axis=0)\n",
    "    std = np.std(X, axis=0)\n",
    "    X_scaled = (X - mean) / std\n",
    "    return X_scaled, mean, std"
   ]
  },
  {
   "cell_type": "code",
   "execution_count": 13,
   "id": "51db8796-a6a0-42f6-822f-b2109656ac3e",
   "metadata": {},
   "outputs": [],
   "source": [
    "# Function to compute cost\n",
    "def compute_cost(X, y, w, b):\n",
    "    m = len(y)\n",
    "    predictions = X.dot(w) + b\n",
    "    cost = (1 / (2 * m)) * np.sum((predictions - y) ** 2)\n",
    "    return cost"
   ]
  },
  {
   "cell_type": "code",
   "execution_count": 14,
   "id": "26c55cf9-60e3-4452-bf1a-fabbaea2a9b5",
   "metadata": {},
   "outputs": [],
   "source": [
    "# Function to perform gradient descent\n",
    "def gradient_descent(X, y, w, b, alpha, num_iterations):\n",
    "    m = len(y)\n",
    "    cost_history = []\n",
    "\n",
    "    for i in range(num_iterations):\n",
    "        predictions = X.dot(w) + b\n",
    "        errors = predictions - y\n",
    "\n",
    "        # Update weights and bias\n",
    "        w -= alpha * (1/m) * X.T.dot(errors)\n",
    "        b -= alpha * (1/m) * np.sum(errors)\n",
    "\n",
    "        # Store cost for each iteration\n",
    "        cost = compute_cost(X, y, w, b)\n",
    "        cost_history.append(cost)\n",
    "\n",
    "        # Debug: Check the cost every 100 iterations\n",
    "        if i % 100 == 0:\n",
    "            print(f\"Iteration {i}: Cost = {cost}\")\n",
    "\n",
    "    return w, b, cost_history"
   ]
  },
  {
   "cell_type": "code",
   "execution_count": 15,
   "id": "e5ef2629-13c5-45e9-a060-7249c89d8375",
   "metadata": {},
   "outputs": [
    {
     "name": "stdout",
     "output_type": "stream",
     "text": [
      "Iteration 0: Cost = 12.0844125\n",
      "Iteration 100: Cost = 1.3675547720192232\n",
      "Iteration 200: Cost = 0.17880098367924613\n",
      "Iteration 300: Cost = 0.023877896320078758\n",
      "Iteration 400: Cost = 0.0031977844194857417\n",
      "Iteration 500: Cost = 0.00042841405004454713\n",
      "Iteration 600: Cost = 5.739835184496546e-05\n",
      "Iteration 700: Cost = 7.690205072874217e-06\n",
      "Iteration 800: Cost = 1.0303310443193944e-06\n",
      "Iteration 900: Cost = 1.3804341601078182e-07\n"
     ]
    }
   ],
   "source": [
    "# Apply feature scaling\n",
    "X_scaled, X_mean, X_std = feature_standardize(X)\n",
    "\n",
    "# Initialize parameters (weights and bias)\n",
    "w = np.zeros(X_scaled.shape[1])  # Initialize weights to zeros\n",
    "b = 0  # Initialize bias to zero\n",
    "\n",
    "# Parameters for gradient descent\n",
    "alpha = 0.01  # Reduce learning rate if needed\n",
    "num_iterations = 1000  # Number of iterations for gradient descent\n",
    "\n",
    "# Perform gradient descent to find optimal w and b\n",
    "w_optimal, b_optimal, cost_history = gradient_descent(X_scaled, y, w, b, alpha, num_iterations)"
   ]
  },
  {
   "cell_type": "code",
   "execution_count": 16,
   "id": "f5b0bd4a-8fff-43c5-a482-895c6a3f4786",
   "metadata": {},
   "outputs": [
    {
     "name": "stdout",
     "output_type": "stream",
     "text": [
      "First 10 cost values: [np.float64(12.0844125), np.float64(11.80136296125), np.float64(11.525631869629123), np.float64(11.257006831891708), np.float64(10.995282324961128), np.float64(10.74025945452911), np.float64(10.491745722604435), np.float64(10.249554803668733), np.float64(10.013506329110463), np.float64(9.783425679620926)]\n"
     ]
    },
    {
     "data": {
      "image/png": "[encoded data removed]",
      "text/plain": [
       "<Figure size 640x480 with 1 Axes>"
      ]
     },
     "metadata": {},
     "output_type": "display_data"
    }
   ],
   "source": [
    "# Debug: Print out the first few costs to verify gradient descent is working\n",
    "print(f\"First 10 cost values: {cost_history[:10]}\")\n",
    "\n",
    "# Check if cost history is populated\n",
    "if len(cost_history) > 0:\n",
    "    plt.plot(cost_history)\n",
    "    plt.title(f\"Cost Function over Iterations (alpha = {alpha})\")\n",
    "    plt.xlabel(\"Iteration\")\n",
    "    plt.ylabel(\"Cost (J)\")\n",
    "    plt.show()\n",
    "else:\n",
    "    print(\"No cost values to plot.\")"
   ]
  },
  {
   "cell_type": "code",
   "execution_count": null,
   "id": "dc2742c6-6eab-4b00-9a83-b4686f95f600",
   "metadata": {},
   "outputs": [],
   "source": []
  }
 ],
 "metadata": {
  "kernelspec": {
   "display_name": "Python 3 (ipykernel)",
   "language": "python",
   "name": "python3"
  },
  "language_info": {
   "codemirror_mode": {
    "name": "ipython",
    "version": 3
   },
   "file_extension": ".py",
   "mimetype": "text/x-python",
   "name": "python",
   "nbconvert_exporter": "python",
   "pygments_lexer": "ipython3",
   "version": "3.12.6"
  }
 },
 "nbformat": 4,
 "nbformat_minor": 5
}
