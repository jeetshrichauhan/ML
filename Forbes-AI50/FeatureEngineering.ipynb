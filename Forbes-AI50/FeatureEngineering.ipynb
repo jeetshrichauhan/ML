{
 "cells": [
  {
   "cell_type": "code",
   "execution_count": 1,
   "id": "4db6ac55-79c6-463b-a00d-978bf7e4e733",
   "metadata": {},
   "outputs": [
    {
     "name": "stdout",
     "output_type": "stream",
     "text": [
      "    Years Since Founded  Growth Rate  Log Growth Rate\n",
      "0                     6    49.843505         3.928752\n",
      "1                     2    70.481928         4.269445\n",
      "2                     7    57.142857         4.062903\n",
      "3                     4    34.740260         3.576278\n",
      "4                     5    64.942085         4.188777\n",
      "5                     7    22.981366         3.177277\n",
      "6                     5    53.333333         3.995138\n",
      "7                     8    58.680556         4.089006\n",
      "8                     3   139.378238         4.944340\n",
      "9                     3    77.777778         4.366631\n",
      "10                    3   145.878136         4.989603\n",
      "11                    5   227.191011         5.430183\n",
      "12                    3    87.878788         4.487274\n",
      "13                    7   136.090226         4.920639\n",
      "14                   11    88.636364         4.495761\n",
      "15                    7   271.428571         5.607376\n",
      "16                    2   494.554455         6.205677\n",
      "17                    2   122.413793         4.815543\n",
      "18                    5   102.222222         4.636884\n",
      "19                    2   657.547170         6.490036\n",
      "20                    4    88.333333         4.492375\n",
      "21                    8   129.905063         4.874472\n",
      "22                    6    48.133748         3.894546\n",
      "23                    3    56.756757         4.056240\n",
      "24                    1   471.428571         6.157887\n",
      "25                    2   466.129032         6.146606\n",
      "26                    3     0.000000         0.000000\n",
      "27                    1  1074.242424         6.980301\n",
      "28                   11   266.391185         5.588713\n",
      "29                    9    67.551622         4.227587\n",
      "30                    8    28.618421         3.388397\n",
      "31                    2  1420.588235         7.259530\n",
      "32                    5   136.250000         4.921804\n",
      "33                    1   754.545455         6.627440\n",
      "34                    5    88.695652         4.496422\n",
      "35                    5    96.666667         4.581560\n",
      "36                    6   264.627286         5.582094\n",
      "37                    8    14.939024         2.768770\n",
      "38                    8   279.166667         5.635385\n",
      "39                    1  4718.181818         8.459391\n",
      "40                    7    76.706096         4.352934\n",
      "41                    2   233.842795         5.458916\n",
      "42                    4    67.592593         4.228185\n",
      "43                    5    43.076923         3.785936\n",
      "44                    2   126.923077         4.851429\n",
      "45                    5   112.183908         4.729014\n",
      "46                    3   363.492063         5.898505\n",
      "47                    5    38.823529         3.684458\n",
      "48                    4    99.007937         4.605250\n"
     ]
    }
   ],
   "source": [
    "import pandas as pd\n",
    "from datetime import datetime\n",
    "import numpy as np\n",
    "\n",
    "df = pd.read_csv('datacollection.csv')\n",
    "current_year = datetime.now().year\n",
    "df['Years Since Founded'] = current_year - df['YEAR FOUNDED']\n",
    "\n",
    "#Calculating Growth RAte\n",
    "df['Growth Rate'] = df.apply(lambda row: ((row['Valuation Amount (Millions)'] / row['FUNDING (in millions)']) - 1) * 100 / row['Years Since Founded'] if row['FUNDING (in millions)'] > 0 else 0, axis=1)\n",
    "df['Growth Rate'] = df['Growth Rate'].replace([float('inf')], 0)\n",
    "\n",
    "# log transformation for more symmteric values\n",
    "df['Log Growth Rate'] = np.log1p(df['Growth Rate'])\n",
    "\n",
    "print(df[['Years Since Founded', 'Growth Rate', 'Log Growth Rate']])\n",
    "df.to_csv('data_withfe.csv', index=False)\n"
   ]
  },
  {
   "cell_type": "code",
   "execution_count": null,
   "id": "ae9b8fa7-84c1-479a-a33e-aa3538c33455",
   "metadata": {},
   "outputs": [],
   "source": []
  }
 ],
 "metadata": {
  "kernelspec": {
   "display_name": "Python 3 (ipykernel)",
   "language": "python",
   "name": "python3"
  },
  "language_info": {
   "codemirror_mode": {
    "name": "ipython",
    "version": 3
   },
   "file_extension": ".py",
   "mimetype": "text/x-python",
   "name": "python",
   "nbconvert_exporter": "python",
   "pygments_lexer": "ipython3",
   "version": "3.12.6"
  }
 },
 "nbformat": 4,
 "nbformat_minor": 5
}
